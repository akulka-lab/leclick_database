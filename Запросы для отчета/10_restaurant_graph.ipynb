{
  "nbformat": 4,
  "nbformat_minor": 0,
  "metadata": {
    "colab": {
      "provenance": []
    },
    "kernelspec": {
      "name": "python3",
      "display_name": "Python 3"
    },
    "language_info": {
      "name": "python"
    }
  },
  "cells": [
    {
      "cell_type": "code",
      "execution_count": null,
      "metadata": {
        "id": "rgEpmAba7_W5"
      },
      "outputs": [],
      "source": [
        "import csv\n",
        "import matplotlib.pyplot as plt\n",
        "\n",
        "\n",
        "# Считывание данных из файла\n",
        "types = []\n",
        "counts = []\n",
        "with open('subscribe.csv', 'r') as file:\n",
        "    for line in file:\n",
        "        data = line.strip().split(',')\n",
        "        types.append(data[0])\n",
        "        counts.append(int(data[1]))\n",
        "\n",
        "# Построение столбчатой диаграммы\n",
        "plt.figure(figsize=(12, 6))\n",
        "plt.bar(types, counts, color='skyblue')\n",
        "plt.xlabel('Тип заведения')\n",
        "plt.ylabel('Количество')\n",
        "plt.title('Распределение типов заведений')\n",
        "plt.xticks(rotation=45)\n",
        "plt.show()\n"
      ]
    }
  ]
}